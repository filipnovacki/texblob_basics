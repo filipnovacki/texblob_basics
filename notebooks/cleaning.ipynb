{
 "cells": [
  {
   "cell_type": "markdown",
   "metadata": {},
   "source": [
    "# Data import and cleaning"
   ]
  },
  {
   "cell_type": "markdown",
   "metadata": {},
   "source": [
    "Creating a data frame"
   ]
  },
  {
   "cell_type": "code",
   "execution_count": 1,
   "metadata": {},
   "outputs": [],
   "source": [
    "import pandas as pd\n",
    "import re"
   ]
  },
  {
   "cell_type": "code",
   "execution_count": 2,
   "metadata": {},
   "outputs": [],
   "source": [
    "df = pd.read_csv('../data/realdonaldtrump.csv', index_col='date')"
   ]
  },
  {
   "cell_type": "code",
   "execution_count": 3,
   "metadata": {},
   "outputs": [],
   "source": [
    "data = pd.DataFrame(df.content)"
   ]
  },
  {
   "cell_type": "code",
   "execution_count": 4,
   "metadata": {
    "scrolled": false
   },
   "outputs": [
    {
     "data": {
      "text/html": [
       "<div>\n",
       "<style scoped>\n",
       "    .dataframe tbody tr th:only-of-type {\n",
       "        vertical-align: middle;\n",
       "    }\n",
       "\n",
       "    .dataframe tbody tr th {\n",
       "        vertical-align: top;\n",
       "    }\n",
       "\n",
       "    .dataframe thead th {\n",
       "        text-align: right;\n",
       "    }\n",
       "</style>\n",
       "<table border=\"1\" class=\"dataframe\">\n",
       "  <thead>\n",
       "    <tr style=\"text-align: right;\">\n",
       "      <th></th>\n",
       "      <th>content</th>\n",
       "    </tr>\n",
       "    <tr>\n",
       "      <th>date</th>\n",
       "      <th></th>\n",
       "    </tr>\n",
       "  </thead>\n",
       "  <tbody>\n",
       "    <tr>\n",
       "      <th>2009-05-04 13:54:25</th>\n",
       "      <td>Be sure to tune in and watch Donald Trump on L...</td>\n",
       "    </tr>\n",
       "    <tr>\n",
       "      <th>2009-05-04 20:00:10</th>\n",
       "      <td>Donald Trump will be appearing on The View tom...</td>\n",
       "    </tr>\n",
       "    <tr>\n",
       "      <th>2009-05-08 08:38:08</th>\n",
       "      <td>Donald Trump reads Top Ten Financial Tips on L...</td>\n",
       "    </tr>\n",
       "    <tr>\n",
       "      <th>2009-05-08 15:40:15</th>\n",
       "      <td>New Blog Post: Celebrity Apprentice Finale and...</td>\n",
       "    </tr>\n",
       "    <tr>\n",
       "      <th>2009-05-12 09:07:28</th>\n",
       "      <td>\"My persona will never be that of a wallflower...</td>\n",
       "    </tr>\n",
       "    <tr>\n",
       "      <th>...</th>\n",
       "      <td>...</td>\n",
       "    </tr>\n",
       "    <tr>\n",
       "      <th>2020-04-15 10:37:20</th>\n",
       "      <td>Our GREAT Senator from South Carolina, @ Senat...</td>\n",
       "    </tr>\n",
       "    <tr>\n",
       "      <th>2020-04-15 10:39:58</th>\n",
       "      <td># ThanksForDelivering @ UPS!https://twitter.co...</td>\n",
       "    </tr>\n",
       "    <tr>\n",
       "      <th>2020-04-15 10:48:05</th>\n",
       "      <td>My condolences to the Steinbrenner family, and...</td>\n",
       "    </tr>\n",
       "    <tr>\n",
       "      <th>2020-04-15 14:02:47</th>\n",
       "      <td>We are having very productive calls with the l...</td>\n",
       "    </tr>\n",
       "    <tr>\n",
       "      <th>2020-04-15 15:49:31</th>\n",
       "      <td>White House news conference today at 5:30 P.M....</td>\n",
       "    </tr>\n",
       "  </tbody>\n",
       "</table>\n",
       "<p>42295 rows × 1 columns</p>\n",
       "</div>"
      ],
      "text/plain": [
       "                                                               content\n",
       "date                                                                  \n",
       "2009-05-04 13:54:25  Be sure to tune in and watch Donald Trump on L...\n",
       "2009-05-04 20:00:10  Donald Trump will be appearing on The View tom...\n",
       "2009-05-08 08:38:08  Donald Trump reads Top Ten Financial Tips on L...\n",
       "2009-05-08 15:40:15  New Blog Post: Celebrity Apprentice Finale and...\n",
       "2009-05-12 09:07:28  \"My persona will never be that of a wallflower...\n",
       "...                                                                ...\n",
       "2020-04-15 10:37:20  Our GREAT Senator from South Carolina, @ Senat...\n",
       "2020-04-15 10:39:58  # ThanksForDelivering @ UPS!https://twitter.co...\n",
       "2020-04-15 10:48:05  My condolences to the Steinbrenner family, and...\n",
       "2020-04-15 14:02:47  We are having very productive calls with the l...\n",
       "2020-04-15 15:49:31  White House news conference today at 5:30 P.M....\n",
       "\n",
       "[42295 rows x 1 columns]"
      ]
     },
     "execution_count": 4,
     "metadata": {},
     "output_type": "execute_result"
    }
   ],
   "source": [
    "data"
   ]
  },
  {
   "cell_type": "markdown",
   "metadata": {},
   "source": [
    "## Cleaning"
   ]
  },
  {
   "cell_type": "markdown",
   "metadata": {},
   "source": [
    "Prvo pretvorimo velika slova u mala"
   ]
  },
  {
   "cell_type": "code",
   "execution_count": 5,
   "metadata": {},
   "outputs": [],
   "source": [
    "def cleaning(x):\n",
    "    # mala slova:\n",
    "    x = x.lower()\n",
    "    \n",
    "    # URL-ovi\n",
    "    x = re.sub(r'\\w+:\\/{2}[\\d\\w-]+(\\.[\\d\\w-]+)*(?:(?:\\/[^\\s/]*))*', '', str(x))\n",
    "    \n",
    "    # specijalni znakovi\n",
    "    x = re.sub(r'[\\W]', ' ', str(x))\n",
    "    \n",
    "    # brojevi\n",
    "    x = re.sub(r'\\w*\\d\\w*', '', str(x))\n",
    "    \n",
    "    # razmaci \n",
    "    x = re.sub(r'\\s+', ' ', str(x))\n",
    "    return x"
   ]
  },
  {
   "cell_type": "code",
   "execution_count": 6,
   "metadata": {},
   "outputs": [],
   "source": [
    "data = data.content.apply(cleaning)"
   ]
  },
  {
   "cell_type": "code",
   "execution_count": 7,
   "metadata": {},
   "outputs": [
    {
     "data": {
      "text/html": [
       "<div>\n",
       "<style scoped>\n",
       "    .dataframe tbody tr th:only-of-type {\n",
       "        vertical-align: middle;\n",
       "    }\n",
       "\n",
       "    .dataframe tbody tr th {\n",
       "        vertical-align: top;\n",
       "    }\n",
       "\n",
       "    .dataframe thead th {\n",
       "        text-align: right;\n",
       "    }\n",
       "</style>\n",
       "<table border=\"1\" class=\"dataframe\">\n",
       "  <thead>\n",
       "    <tr style=\"text-align: right;\">\n",
       "      <th></th>\n",
       "      <th>content</th>\n",
       "    </tr>\n",
       "    <tr>\n",
       "      <th>date</th>\n",
       "      <th></th>\n",
       "    </tr>\n",
       "  </thead>\n",
       "  <tbody>\n",
       "    <tr>\n",
       "      <th>2009-05-04 13:54:25</th>\n",
       "      <td>be sure to tune in and watch donald trump on l...</td>\n",
       "    </tr>\n",
       "    <tr>\n",
       "      <th>2009-05-04 20:00:10</th>\n",
       "      <td>donald trump will be appearing on the view tom...</td>\n",
       "    </tr>\n",
       "    <tr>\n",
       "      <th>2009-05-08 08:38:08</th>\n",
       "      <td>donald trump reads top ten financial tips on l...</td>\n",
       "    </tr>\n",
       "    <tr>\n",
       "      <th>2009-05-08 15:40:15</th>\n",
       "      <td>new blog post celebrity apprentice finale and ...</td>\n",
       "    </tr>\n",
       "    <tr>\n",
       "      <th>2009-05-12 09:07:28</th>\n",
       "      <td>my persona will never be that of a wallflower...</td>\n",
       "    </tr>\n",
       "    <tr>\n",
       "      <th>...</th>\n",
       "      <td>...</td>\n",
       "    </tr>\n",
       "    <tr>\n",
       "      <th>2020-04-15 10:37:20</th>\n",
       "      <td>our great senator from south carolina senatort...</td>\n",
       "    </tr>\n",
       "    <tr>\n",
       "      <th>2020-04-15 10:39:58</th>\n",
       "      <td>thanksfordelivering ups</td>\n",
       "    </tr>\n",
       "    <tr>\n",
       "      <th>2020-04-15 10:48:05</th>\n",
       "      <td>my condolences to the steinbrenner family and ...</td>\n",
       "    </tr>\n",
       "    <tr>\n",
       "      <th>2020-04-15 14:02:47</th>\n",
       "      <td>we are having very productive calls with the l...</td>\n",
       "    </tr>\n",
       "    <tr>\n",
       "      <th>2020-04-15 15:49:31</th>\n",
       "      <td>white house news conference today at p m easte...</td>\n",
       "    </tr>\n",
       "  </tbody>\n",
       "</table>\n",
       "<p>42295 rows × 1 columns</p>\n",
       "</div>"
      ],
      "text/plain": [
       "                                                               content\n",
       "date                                                                  \n",
       "2009-05-04 13:54:25  be sure to tune in and watch donald trump on l...\n",
       "2009-05-04 20:00:10  donald trump will be appearing on the view tom...\n",
       "2009-05-08 08:38:08  donald trump reads top ten financial tips on l...\n",
       "2009-05-08 15:40:15  new blog post celebrity apprentice finale and ...\n",
       "2009-05-12 09:07:28   my persona will never be that of a wallflower...\n",
       "...                                                                ...\n",
       "2020-04-15 10:37:20  our great senator from south carolina senatort...\n",
       "2020-04-15 10:39:58                           thanksfordelivering ups \n",
       "2020-04-15 10:48:05  my condolences to the steinbrenner family and ...\n",
       "2020-04-15 14:02:47  we are having very productive calls with the l...\n",
       "2020-04-15 15:49:31  white house news conference today at p m easte...\n",
       "\n",
       "[42295 rows x 1 columns]"
      ]
     },
     "execution_count": 7,
     "metadata": {},
     "output_type": "execute_result"
    }
   ],
   "source": [
    "data = pd.DataFrame(data)\n",
    "data"
   ]
  },
  {
   "cell_type": "markdown",
   "metadata": {},
   "source": [
    "## Sentiment analysis"
   ]
  },
  {
   "cell_type": "code",
   "execution_count": 8,
   "metadata": {},
   "outputs": [],
   "source": [
    "from textblob import TextBlob"
   ]
  },
  {
   "cell_type": "code",
   "execution_count": 9,
   "metadata": {},
   "outputs": [],
   "source": [
    "polarity = lambda x: TextBlob(x).sentiment.polarity\n",
    "subjectivity = lambda x: TextBlob(x).sentiment.subjectivity"
   ]
  },
  {
   "cell_type": "code",
   "execution_count": 10,
   "metadata": {},
   "outputs": [],
   "source": [
    "data['polarity'] = data.content.apply(polarity)\n",
    "data['subjectivity'] = data.content.apply(subjectivity)"
   ]
  },
  {
   "cell_type": "code",
   "execution_count": 11,
   "metadata": {},
   "outputs": [
    {
     "data": {
      "text/html": [
       "<div>\n",
       "<style scoped>\n",
       "    .dataframe tbody tr th:only-of-type {\n",
       "        vertical-align: middle;\n",
       "    }\n",
       "\n",
       "    .dataframe tbody tr th {\n",
       "        vertical-align: top;\n",
       "    }\n",
       "\n",
       "    .dataframe thead th {\n",
       "        text-align: right;\n",
       "    }\n",
       "</style>\n",
       "<table border=\"1\" class=\"dataframe\">\n",
       "  <thead>\n",
       "    <tr style=\"text-align: right;\">\n",
       "      <th></th>\n",
       "      <th>content</th>\n",
       "      <th>polarity</th>\n",
       "      <th>subjectivity</th>\n",
       "    </tr>\n",
       "    <tr>\n",
       "      <th>date</th>\n",
       "      <th></th>\n",
       "      <th></th>\n",
       "      <th></th>\n",
       "    </tr>\n",
       "  </thead>\n",
       "  <tbody>\n",
       "    <tr>\n",
       "      <th>2009-05-04 13:54:25</th>\n",
       "      <td>be sure to tune in and watch donald trump on l...</td>\n",
       "      <td>0.175000</td>\n",
       "      <td>0.497222</td>\n",
       "    </tr>\n",
       "    <tr>\n",
       "      <th>2009-05-04 20:00:10</th>\n",
       "      <td>donald trump will be appearing on the view tom...</td>\n",
       "      <td>0.136364</td>\n",
       "      <td>0.454545</td>\n",
       "    </tr>\n",
       "    <tr>\n",
       "      <th>2009-05-08 08:38:08</th>\n",
       "      <td>donald trump reads top ten financial tips on l...</td>\n",
       "      <td>0.105000</td>\n",
       "      <td>0.420000</td>\n",
       "    </tr>\n",
       "    <tr>\n",
       "      <th>2009-05-08 15:40:15</th>\n",
       "      <td>new blog post celebrity apprentice finale and ...</td>\n",
       "      <td>0.136364</td>\n",
       "      <td>0.454545</td>\n",
       "    </tr>\n",
       "    <tr>\n",
       "      <th>2009-05-12 09:07:28</th>\n",
       "      <td>my persona will never be that of a wallflower...</td>\n",
       "      <td>0.000000</td>\n",
       "      <td>0.000000</td>\n",
       "    </tr>\n",
       "    <tr>\n",
       "      <th>...</th>\n",
       "      <td>...</td>\n",
       "      <td>...</td>\n",
       "      <td>...</td>\n",
       "    </tr>\n",
       "    <tr>\n",
       "      <th>2020-04-15 10:37:20</th>\n",
       "      <td>our great senator from south carolina senatort...</td>\n",
       "      <td>0.261174</td>\n",
       "      <td>0.661553</td>\n",
       "    </tr>\n",
       "    <tr>\n",
       "      <th>2020-04-15 10:39:58</th>\n",
       "      <td>thanksfordelivering ups</td>\n",
       "      <td>0.000000</td>\n",
       "      <td>0.000000</td>\n",
       "    </tr>\n",
       "    <tr>\n",
       "      <th>2020-04-15 10:48:05</th>\n",
       "      <td>my condolences to the steinbrenner family and ...</td>\n",
       "      <td>0.400000</td>\n",
       "      <td>0.687500</td>\n",
       "    </tr>\n",
       "    <tr>\n",
       "      <th>2020-04-15 14:02:47</th>\n",
       "      <td>we are having very productive calls with the l...</td>\n",
       "      <td>0.233333</td>\n",
       "      <td>0.266667</td>\n",
       "    </tr>\n",
       "    <tr>\n",
       "      <th>2020-04-15 15:49:31</th>\n",
       "      <td>white house news conference today at p m easte...</td>\n",
       "      <td>0.000000</td>\n",
       "      <td>0.000000</td>\n",
       "    </tr>\n",
       "  </tbody>\n",
       "</table>\n",
       "<p>42295 rows × 3 columns</p>\n",
       "</div>"
      ],
      "text/plain": [
       "                                                               content  \\\n",
       "date                                                                     \n",
       "2009-05-04 13:54:25  be sure to tune in and watch donald trump on l...   \n",
       "2009-05-04 20:00:10  donald trump will be appearing on the view tom...   \n",
       "2009-05-08 08:38:08  donald trump reads top ten financial tips on l...   \n",
       "2009-05-08 15:40:15  new blog post celebrity apprentice finale and ...   \n",
       "2009-05-12 09:07:28   my persona will never be that of a wallflower...   \n",
       "...                                                                ...   \n",
       "2020-04-15 10:37:20  our great senator from south carolina senatort...   \n",
       "2020-04-15 10:39:58                           thanksfordelivering ups    \n",
       "2020-04-15 10:48:05  my condolences to the steinbrenner family and ...   \n",
       "2020-04-15 14:02:47  we are having very productive calls with the l...   \n",
       "2020-04-15 15:49:31  white house news conference today at p m easte...   \n",
       "\n",
       "                     polarity  subjectivity  \n",
       "date                                         \n",
       "2009-05-04 13:54:25  0.175000      0.497222  \n",
       "2009-05-04 20:00:10  0.136364      0.454545  \n",
       "2009-05-08 08:38:08  0.105000      0.420000  \n",
       "2009-05-08 15:40:15  0.136364      0.454545  \n",
       "2009-05-12 09:07:28  0.000000      0.000000  \n",
       "...                       ...           ...  \n",
       "2020-04-15 10:37:20  0.261174      0.661553  \n",
       "2020-04-15 10:39:58  0.000000      0.000000  \n",
       "2020-04-15 10:48:05  0.400000      0.687500  \n",
       "2020-04-15 14:02:47  0.233333      0.266667  \n",
       "2020-04-15 15:49:31  0.000000      0.000000  \n",
       "\n",
       "[42295 rows x 3 columns]"
      ]
     },
     "execution_count": 11,
     "metadata": {},
     "output_type": "execute_result"
    }
   ],
   "source": [
    "data"
   ]
  },
  {
   "cell_type": "markdown",
   "metadata": {},
   "source": [
    "## Plotting"
   ]
  },
  {
   "cell_type": "code",
   "execution_count": 12,
   "metadata": {},
   "outputs": [],
   "source": [
    "import matplotlib as mpl\n",
    "import matplotlib.pyplot as plt\n",
    "import numpy as np"
   ]
  },
  {
   "cell_type": "code",
   "execution_count": 15,
   "metadata": {},
   "outputs": [
    {
     "data": {
      "text/html": [
       "<div>\n",
       "<style scoped>\n",
       "    .dataframe tbody tr th:only-of-type {\n",
       "        vertical-align: middle;\n",
       "    }\n",
       "\n",
       "    .dataframe tbody tr th {\n",
       "        vertical-align: top;\n",
       "    }\n",
       "\n",
       "    .dataframe thead th {\n",
       "        text-align: right;\n",
       "    }\n",
       "</style>\n",
       "<table border=\"1\" class=\"dataframe\">\n",
       "  <thead>\n",
       "    <tr style=\"text-align: right;\">\n",
       "      <th></th>\n",
       "      <th>content</th>\n",
       "      <th>polarity</th>\n",
       "      <th>subjectivity</th>\n",
       "    </tr>\n",
       "    <tr>\n",
       "      <th>date</th>\n",
       "      <th></th>\n",
       "      <th></th>\n",
       "      <th></th>\n",
       "    </tr>\n",
       "  </thead>\n",
       "  <tbody>\n",
       "    <tr>\n",
       "      <th>2009-05-04 13:54:25</th>\n",
       "      <td>be sure to tune in and watch donald trump on l...</td>\n",
       "      <td>0.175000</td>\n",
       "      <td>0.497222</td>\n",
       "    </tr>\n",
       "    <tr>\n",
       "      <th>2009-05-04 20:00:10</th>\n",
       "      <td>donald trump will be appearing on the view tom...</td>\n",
       "      <td>0.136364</td>\n",
       "      <td>0.454545</td>\n",
       "    </tr>\n",
       "    <tr>\n",
       "      <th>2009-05-08 08:38:08</th>\n",
       "      <td>donald trump reads top ten financial tips on l...</td>\n",
       "      <td>0.105000</td>\n",
       "      <td>0.420000</td>\n",
       "    </tr>\n",
       "    <tr>\n",
       "      <th>2009-05-08 15:40:15</th>\n",
       "      <td>new blog post celebrity apprentice finale and ...</td>\n",
       "      <td>0.136364</td>\n",
       "      <td>0.454545</td>\n",
       "    </tr>\n",
       "    <tr>\n",
       "      <th>2009-05-12 09:07:28</th>\n",
       "      <td>my persona will never be that of a wallflower...</td>\n",
       "      <td>0.000000</td>\n",
       "      <td>0.000000</td>\n",
       "    </tr>\n",
       "    <tr>\n",
       "      <th>...</th>\n",
       "      <td>...</td>\n",
       "      <td>...</td>\n",
       "      <td>...</td>\n",
       "    </tr>\n",
       "    <tr>\n",
       "      <th>2020-04-15 10:37:20</th>\n",
       "      <td>our great senator from south carolina senatort...</td>\n",
       "      <td>0.261174</td>\n",
       "      <td>0.661553</td>\n",
       "    </tr>\n",
       "    <tr>\n",
       "      <th>2020-04-15 10:39:58</th>\n",
       "      <td>thanksfordelivering ups</td>\n",
       "      <td>0.000000</td>\n",
       "      <td>0.000000</td>\n",
       "    </tr>\n",
       "    <tr>\n",
       "      <th>2020-04-15 10:48:05</th>\n",
       "      <td>my condolences to the steinbrenner family and ...</td>\n",
       "      <td>0.400000</td>\n",
       "      <td>0.687500</td>\n",
       "    </tr>\n",
       "    <tr>\n",
       "      <th>2020-04-15 14:02:47</th>\n",
       "      <td>we are having very productive calls with the l...</td>\n",
       "      <td>0.233333</td>\n",
       "      <td>0.266667</td>\n",
       "    </tr>\n",
       "    <tr>\n",
       "      <th>2020-04-15 15:49:31</th>\n",
       "      <td>white house news conference today at p m easte...</td>\n",
       "      <td>0.000000</td>\n",
       "      <td>0.000000</td>\n",
       "    </tr>\n",
       "  </tbody>\n",
       "</table>\n",
       "<p>42295 rows × 3 columns</p>\n",
       "</div>"
      ],
      "text/plain": [
       "                                                               content  \\\n",
       "date                                                                     \n",
       "2009-05-04 13:54:25  be sure to tune in and watch donald trump on l...   \n",
       "2009-05-04 20:00:10  donald trump will be appearing on the view tom...   \n",
       "2009-05-08 08:38:08  donald trump reads top ten financial tips on l...   \n",
       "2009-05-08 15:40:15  new blog post celebrity apprentice finale and ...   \n",
       "2009-05-12 09:07:28   my persona will never be that of a wallflower...   \n",
       "...                                                                ...   \n",
       "2020-04-15 10:37:20  our great senator from south carolina senatort...   \n",
       "2020-04-15 10:39:58                           thanksfordelivering ups    \n",
       "2020-04-15 10:48:05  my condolences to the steinbrenner family and ...   \n",
       "2020-04-15 14:02:47  we are having very productive calls with the l...   \n",
       "2020-04-15 15:49:31  white house news conference today at p m easte...   \n",
       "\n",
       "                     polarity  subjectivity  \n",
       "date                                         \n",
       "2009-05-04 13:54:25  0.175000      0.497222  \n",
       "2009-05-04 20:00:10  0.136364      0.454545  \n",
       "2009-05-08 08:38:08  0.105000      0.420000  \n",
       "2009-05-08 15:40:15  0.136364      0.454545  \n",
       "2009-05-12 09:07:28  0.000000      0.000000  \n",
       "...                       ...           ...  \n",
       "2020-04-15 10:37:20  0.261174      0.661553  \n",
       "2020-04-15 10:39:58  0.000000      0.000000  \n",
       "2020-04-15 10:48:05  0.400000      0.687500  \n",
       "2020-04-15 14:02:47  0.233333      0.266667  \n",
       "2020-04-15 15:49:31  0.000000      0.000000  \n",
       "\n",
       "[42295 rows x 3 columns]"
      ]
     },
     "execution_count": 15,
     "metadata": {},
     "output_type": "execute_result"
    }
   ],
   "source": [
    "data"
   ]
  },
  {
   "cell_type": "code",
   "execution_count": 29,
   "metadata": {
    "scrolled": false
   },
   "outputs": [
    {
     "data": {
      "text/plain": [
       "date\n",
       "2009-05-04 13:54:25         NaN\n",
       "2009-05-04 20:00:10         NaN\n",
       "2009-05-08 08:38:08         NaN\n",
       "2009-05-08 15:40:15         NaN\n",
       "2009-05-12 09:07:28         NaN\n",
       "                         ...   \n",
       "2020-04-15 10:37:20    0.132682\n",
       "2020-04-15 10:39:58    0.132671\n",
       "2020-04-15 10:48:05    0.132781\n",
       "2020-04-15 14:02:47    0.132735\n",
       "2020-04-15 15:49:31    0.132735\n",
       "Name: polarity, Length: 42295, dtype: float64"
      ]
     },
     "execution_count": 29,
     "metadata": {},
     "output_type": "execute_result"
    }
   ],
   "source": [
    "data.polarity.rolling(window=5000).mean()"
   ]
  },
  {
   "cell_type": "code",
   "execution_count": 80,
   "metadata": {},
   "outputs": [
    {
     "data": {
      "image/png": "[encoded data removed]",
      "text/plain": [
       "<Figure size 432x288 with 1 Axes>"
      ]
     },
     "metadata": {
      "needs_background": "light"
     },
     "output_type": "display_data"
    }
   ],
   "source": [
    "rolling = data.polarity.rolling(window=1000).mean()\n",
    "rolling.index = pd.to_datetime(df.index)\n",
    "fig = rolling.plot(grid=True, style='g-', title=\"Polaritet Trumpovih tweetova kroz vrijeme\")\n",
    "fig.set_xlabel(\"Godina\")\n",
    "fig.set_ylabel(\"polaritet\")\n",
    "fig.get_figure().savefig('../rad/polaritet.pdf')"
   ]
  },
  {
   "cell_type": "code",
   "execution_count": 81,
   "metadata": {},
   "outputs": [
    {
     "data": {
      "image/png": "[encoded data removed]",
      "text/plain": [
       "<Figure size 432x288 with 1 Axes>"
      ]
     },
     "metadata": {
      "needs_background": "light"
     },
     "output_type": "display_data"
    }
   ],
   "source": [
    "rolling = data.subjectivity.rolling(window=1000).mean()\n",
    "rolling.index = pd.to_datetime(df.index)\n",
    "fig = rolling.plot(grid=True, style='k-', title=\"Subjektivnost Trumpovih tweetova kroz vrijeme\")\n",
    "fig.set_xlabel(\"Godina\")\n",
    "fig.set_ylabel(\"subjektivnost\")\n",
    "fig.get_figure().savefig('../rad/subjektivnost.pdf')"
   ]
  },
  {
   "cell_type": "code",
   "execution_count": null,
   "metadata": {},
   "outputs": [],
   "source": []
  }
 ],
 "metadata": {
  "kernelspec": {
   "display_name": "Python 3",
   "language": "python",
   "name": "python3"
  },
  "language_info": {
   "codemirror_mode": {
    "name": "ipython",
    "version": 3
   },
   "file_extension": ".py",
   "mimetype": "text/x-python",
   "name": "python",
   "nbconvert_exporter": "python",
   "pygments_lexer": "ipython3",
   "version": "3.8.3"
  }
 },
 "nbformat": 4,
 "nbformat_minor": 2
}
